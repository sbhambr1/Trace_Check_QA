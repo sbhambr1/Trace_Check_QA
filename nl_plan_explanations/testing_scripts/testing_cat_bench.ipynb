{
 "cells": [
  {
   "cell_type": "code",
   "execution_count": 1,
   "metadata": {},
   "outputs": [],
   "source": [
    "from datasets import load_dataset\n",
    "\n",
    "ds = load_dataset(\"vanyacohen/CaT-Bench\")"
   ]
  },
  {
   "cell_type": "code",
   "execution_count": 2,
   "metadata": {},
   "outputs": [
    {
     "name": "stdout",
     "output_type": "stream",
     "text": [
      "DatasetDict({\n",
      "    train: Dataset({\n",
      "        features: ['label', 'origin_text', 'destination_text', 'steps', 'title'],\n",
      "        num_rows: 6934\n",
      "    })\n",
      "    validation: Dataset({\n",
      "        features: ['label', 'origin_text', 'destination_text', 'steps', 'title'],\n",
      "        num_rows: 808\n",
      "    })\n",
      "    test: Dataset({\n",
      "        features: ['label', 'origin_text', 'destination_text', 'steps', 'title'],\n",
      "        num_rows: 1420\n",
      "    })\n",
      "})\n"
     ]
    }
   ],
   "source": [
    "# print the first example and other dataset statistics\n",
    "print(ds)"
   ]
  },
  {
   "cell_type": "code",
   "execution_count": 5,
   "metadata": {},
   "outputs": [],
   "source": [
    "import pandas as pd\n",
    "# Set the display options for word wrap\n",
    "pd.set_option('display.max_colwidth', None)"
   ]
  },
  {
   "cell_type": "code",
   "execution_count": 41,
   "metadata": {},
   "outputs": [
    {
     "name": "stdout",
     "output_type": "stream",
     "text": [
      "True\n",
      "Bring to the boil and then transfer to slow cooker pouring over chicken.\n",
      "Blend the onions, garlic, ginger and chilli in a blender or liquidiser, or chop very finely.\n",
      "['Blend the onions, garlic, ginger and chilli in a blender or liquidiser, or chop very finely.', 'Cut each thigh into 4 pieces, heat the oil in a large frying pan and add the chicken.', 'Cook over a high heat until evenly browned.', 'Remove from pan and place in slow cooker.', 'Add the butter to the pan and when melted add the onion mixture.', 'Cook over moderate heat for 3 minutes.', 'Add all the spices and cook for a further minute.', 'Mix in chicken stock, sugar and salt.', 'Bring to the boil and then transfer to slow cooker pouring over chicken.', 'Cover and cook for 5 - 7 hours on Low (or 3 hours on high).', 'Add the cream and ground up nuts.', 'Serve with rice and naan bread.']\n",
      "Slow_cooked_chicken_korma_recipe_-_All_recipes_UK\n"
     ]
    }
   ],
   "source": [
    "# Your existing code\n",
    "train_ds = ds['train']\n",
    "train_example = train_ds[1]\n",
    "print(train_example['label'])\n",
    "print(train_example['origin_text'])\n",
    "print(train_example['destination_text'])\n",
    "print(train_example['steps'])\n",
    "print(train_example['title'])"
   ]
  },
  {
   "cell_type": "code",
   "execution_count": 42,
   "metadata": {},
   "outputs": [],
   "source": [
    "def format_input_for_prompt(example, temporal_relation=\"before\"):\n",
    "    title = example['title']\n",
    "    origin_text = example['origin_text']\n",
    "    destination_text = example['destination_text']\n",
    "    steps = example['steps']\n",
    "    enumerated_steps = list(enumerate(steps, start=1))\n",
    "    prompt_steps = [f\"{step[0]}. {step[1]}\" for step in enumerated_steps]\n",
    "    prompt_steps_string = '\\n'.join(prompt_steps)\n",
    "    i = next((step[0] for step in enumerated_steps if step[1] == origin_text), None)\n",
    "    j = next((step[0] for step in enumerated_steps if step[1] == destination_text), None)\n",
    "    if i is None or j is None:\n",
    "        raise ValueError(\"Origin or destination text not found in steps\")\n",
    "    if temporal_relation is None:\n",
    "        if i < j:\n",
    "            temporal_relation = \"before\"\n",
    "        else:\n",
    "            temporal_relation = \"after\"\n",
    "    \n",
    "    return title, prompt_steps_string, i, j, temporal_relation"
   ]
  },
  {
   "cell_type": "code",
   "execution_count": 43,
   "metadata": {},
   "outputs": [],
   "source": [
    "title, prompt_steps_string, i, j, temporal_relation = format_input_for_prompt(train_example)"
   ]
  },
  {
   "cell_type": "code",
   "execution_count": 44,
   "metadata": {},
   "outputs": [
    {
     "name": "stdout",
     "output_type": "stream",
     "text": [
      "1. Blend the onions, garlic, ginger and chilli in a blender or liquidiser, or chop very finely.\n",
      "2. Cut each thigh into 4 pieces, heat the oil in a large frying pan and add the chicken.\n",
      "3. Cook over a high heat until evenly browned.\n",
      "4. Remove from pan and place in slow cooker.\n",
      "5. Add the butter to the pan and when melted add the onion mixture.\n",
      "6. Cook over moderate heat for 3 minutes.\n",
      "7. Add all the spices and cook for a further minute.\n",
      "8. Mix in chicken stock, sugar and salt.\n",
      "9. Bring to the boil and then transfer to slow cooker pouring over chicken.\n",
      "10. Cover and cook for 5 - 7 hours on Low (or 3 hours on high).\n",
      "11. Add the cream and ground up nuts.\n",
      "12. Serve with rice and naan bread.\n"
     ]
    }
   ],
   "source": [
    "print(prompt_steps_string)"
   ]
  },
  {
   "cell_type": "code",
   "execution_count": 45,
   "metadata": {},
   "outputs": [],
   "source": [
    "def get_answer_only_prompt(title, procedure, i, j, temporal_relation=\"before\"):\n",
    "    TASK = \"Given a goal, a procedure to achieve that goal and a question about the steps in the procedure, you are required to answer the question in one sentence.\"\n",
    "    GOAL = \"Goal: \" + title\n",
    "    PROCEDURE = \"Procedure: \\n\" + procedure\n",
    "    QUERY = f\"Must Step {i} happen {temporal_relation} Step {j}? Select between yes or no.\"\n",
    "    \n",
    "    full_prompt = f\"{TASK}\\n\\n{GOAL}\\n\\n{PROCEDURE}\\n\\n{QUERY}\"\n",
    "    return full_prompt\n",
    "    \n",
    "def get_answer_explanation_prompt(title, procedure, i, j, temporal_relation=\"before\"):\n",
    "    TASK = \"Given a goal, a procedure to achieve that goal and a question about the steps in the procedure, you are required to answer the question in one sentence.\"\n",
    "    GOAL = \"Goal: \" + title\n",
    "    PROCEDURE = \"Procedure: \\n\" + procedure\n",
    "    QUERY_1 = f\"1. Must Step {i} happen {temporal_relation} Step {j}? Select between yes or no.\"\n",
    "    QUERY_2 = \"Explain why or why not.\"\n",
    "    FORMAT = \"Format your answer as JSON with the key value pairs \\\"binary_answer\\\": \\\"yes/no answer to Q1\\\"; \\\"why_answer\\\": \\\"answer to Q2\\\"\"\n",
    "    \n",
    "    full_prompt = f\"{TASK}\\n\\n{GOAL}\\n\\n{PROCEDURE}\\n\\n{QUERY_1}\\n{QUERY_2}\\n\\n{FORMAT}\"\n",
    "    return full_prompt\n",
    "\n",
    "def get_explanation_answer_prompt(title, procedure, i, j, temporal_relation=\"before\"):\n",
    "    TASK = \"Given a goal, a procedure to achieve that goal and a question about the steps in the procedure, you are required to answer the question in one sentence.\"\n",
    "    GOAL = \"Goal: \" + title\n",
    "    PROCEDURE = \"Procedure: \\n\" + procedure\n",
    "    QUERY_1 = f\"1. Explain why or why not Step {i} must happen {temporal_relation} Step {j}. Think step by step.\"\n",
    "    QUERY_2 = f\"2. Must Step {i} happen {temporal_relation} Step {j}? Select between yes or no\"\n",
    "    FORMAT = \"Format your answer as JSON with the key value pairs \\\"why_answer\\\": \\\"answer to Q1\\\"; \\\"binary_answer\\\": \\\"yes/no answer to Q2\\\"\"\n",
    "    \n",
    "    full_prompt = f\"{TASK}\\n\\n{GOAL}\\n\\n{PROCEDURE}\\n\\n{QUERY_1}\\n{QUERY_2}\\n\\n{FORMAT}\"\n",
    "    return full_prompt\n",
    "\n",
    "def get_answer_explanation_prompt(title, procedure, i, j, temporal_relation=\"before\"):\n",
    "    TASK = \"Given a goal, a procedure to achieve that goal and a question about the steps in the procedure, you are required to answer the question in one sentence.\"\n",
    "    GOAL = \"Goal: \" + title\n",
    "    PROCEDURE = \"Procedure: \\n\" + procedure\n",
    "    QUERY_1 = f\"1. Must Step {i} happen {temporal_relation} Step {j}? Select between yes or no.\"\n",
    "    QUERY_2 = \"Explain why or why not.\"\n",
    "    FORMAT = \"Format your answer as follows: \\n\\n Answer 1: yes/no \\nAnswer 2: your answer in one sentence\"\n",
    "    \n",
    "    full_prompt = f\"{TASK}\\n\\n{GOAL}\\n\\n{PROCEDURE}\\n\\n{QUERY_1}\\n{QUERY_2}\\n\\n{FORMAT}\"\n",
    "    return full_prompt\n"
   ]
  },
  {
   "cell_type": "code",
   "execution_count": 46,
   "metadata": {},
   "outputs": [
    {
     "name": "stdout",
     "output_type": "stream",
     "text": [
      "Given a goal, a procedure to achieve that goal and a question about the steps in the procedure, you are required to answer the question in one sentence.\n",
      "\n",
      "Goal: Slow_cooked_chicken_korma_recipe_-_All_recipes_UK\n",
      "\n",
      "Procedure: \n",
      "1. Blend the onions, garlic, ginger and chilli in a blender or liquidiser, or chop very finely.\n",
      "2. Cut each thigh into 4 pieces, heat the oil in a large frying pan and add the chicken.\n",
      "3. Cook over a high heat until evenly browned.\n",
      "4. Remove from pan and place in slow cooker.\n",
      "5. Add the butter to the pan and when melted add the onion mixture.\n",
      "6. Cook over moderate heat for 3 minutes.\n",
      "7. Add all the spices and cook for a further minute.\n",
      "8. Mix in chicken stock, sugar and salt.\n",
      "9. Bring to the boil and then transfer to slow cooker pouring over chicken.\n",
      "10. Cover and cook for 5 - 7 hours on Low (or 3 hours on high).\n",
      "11. Add the cream and ground up nuts.\n",
      "12. Serve with rice and naan bread.\n",
      "\n",
      "Must Step 9 happen before Step 1? Select between yes or no.\n"
     ]
    }
   ],
   "source": [
    "print(get_answer_only_prompt(title, prompt_steps_string, i, j, temporal_relation))"
   ]
  },
  {
   "cell_type": "code",
   "execution_count": 10,
   "metadata": {},
   "outputs": [],
   "source": [
    "import os\n",
    "STORAGE_DIR = os.path.join(os.getcwd(), \"../data_storage/cat_bench\")\n",
    "binary_label_path = os.path.join(STORAGE_DIR, \"binary_label\")\n",
    "train_csv_path = os.path.join(binary_label_path, \"train.csv\")"
   ]
  },
  {
   "cell_type": "code",
   "execution_count": 11,
   "metadata": {},
   "outputs": [
    {
     "data": {
      "text/html": [
       "<div>\n",
       "<style scoped>\n",
       "    .dataframe tbody tr th:only-of-type {\n",
       "        vertical-align: middle;\n",
       "    }\n",
       "\n",
       "    .dataframe tbody tr th {\n",
       "        vertical-align: top;\n",
       "    }\n",
       "\n",
       "    .dataframe thead th {\n",
       "        text-align: right;\n",
       "    }\n",
       "</style>\n",
       "<table border=\"1\" class=\"dataframe\">\n",
       "  <thead>\n",
       "    <tr style=\"text-align: right;\">\n",
       "      <th></th>\n",
       "      <th>index</th>\n",
       "      <th>recipe_name</th>\n",
       "      <th>sentence1</th>\n",
       "      <th>sentence2</th>\n",
       "      <th>label</th>\n",
       "    </tr>\n",
       "  </thead>\n",
       "  <tbody>\n",
       "    <tr>\n",
       "      <th>0</th>\n",
       "      <td>0</td>\n",
       "      <td>Pico_de_gallo_chicken_quesadillas_recipe_-_All...</td>\n",
       "      <td>In a clean, heavy frying pan, heat one flour t...</td>\n",
       "      <td>Set aside.</td>\n",
       "      <td>1</td>\n",
       "    </tr>\n",
       "    <tr>\n",
       "      <th>1</th>\n",
       "      <td>1</td>\n",
       "      <td>Slow_cooked_chicken_korma_recipe_-_All_recipes_UK</td>\n",
       "      <td>Bring to the boil and then transfer to slow co...</td>\n",
       "      <td>Blend the onions, garlic, ginger and chilli in...</td>\n",
       "      <td>1</td>\n",
       "    </tr>\n",
       "    <tr>\n",
       "      <th>2</th>\n",
       "      <td>2</td>\n",
       "      <td>vodka-penne</td>\n",
       "      <td>Season finished sauce with salt and pepper.</td>\n",
       "      <td>Heat the olive oil in a large saucepan over me...</td>\n",
       "      <td>1</td>\n",
       "    </tr>\n",
       "    <tr>\n",
       "      <th>3</th>\n",
       "      <td>3</td>\n",
       "      <td>dal-fritters</td>\n",
       "      <td>These will absorb the oil in the pan, but that...</td>\n",
       "      <td>Combine all the ingredients together.</td>\n",
       "      <td>1</td>\n",
       "    </tr>\n",
       "    <tr>\n",
       "      <th>4</th>\n",
       "      <td>4</td>\n",
       "      <td>cardiganshire-cawl</td>\n",
       "      <td>Add potatoes, and simmer until tender, 15 to 2...</td>\n",
       "      <td>Simmer for 1 hour.</td>\n",
       "      <td>1</td>\n",
       "    </tr>\n",
       "  </tbody>\n",
       "</table>\n",
       "</div>"
      ],
      "text/plain": [
       "   index                                        recipe_name  \\\n",
       "0      0  Pico_de_gallo_chicken_quesadillas_recipe_-_All...   \n",
       "1      1  Slow_cooked_chicken_korma_recipe_-_All_recipes_UK   \n",
       "2      2                                        vodka-penne   \n",
       "3      3                                       dal-fritters   \n",
       "4      4                                 cardiganshire-cawl   \n",
       "\n",
       "                                           sentence1  \\\n",
       "0  In a clean, heavy frying pan, heat one flour t...   \n",
       "1  Bring to the boil and then transfer to slow co...   \n",
       "2        Season finished sauce with salt and pepper.   \n",
       "3  These will absorb the oil in the pan, but that...   \n",
       "4  Add potatoes, and simmer until tender, 15 to 2...   \n",
       "\n",
       "                                           sentence2  label  \n",
       "0                                         Set aside.      1  \n",
       "1  Blend the onions, garlic, ginger and chilli in...      1  \n",
       "2  Heat the olive oil in a large saucepan over me...      1  \n",
       "3              Combine all the ingredients together.      1  \n",
       "4                                 Simmer for 1 hour.      1  "
      ]
     },
     "execution_count": 11,
     "metadata": {},
     "output_type": "execute_result"
    }
   ],
   "source": [
    "import pandas as pd\n",
    "df_train_binary = pd.read_csv(train_csv_path)\n",
    "df_train_binary.head()"
   ]
  },
  {
   "cell_type": "code",
   "execution_count": 14,
   "metadata": {},
   "outputs": [
    {
     "data": {
      "text/plain": [
       "'In a clean, heavy frying pan, heat one flour tortilla. Set aside.'"
      ]
     },
     "execution_count": 14,
     "metadata": {},
     "output_type": "execute_result"
    }
   ],
   "source": [
    "df_train_binary.iloc[0]['sentence1'] + \" \" + df_train_binary.iloc[0]['sentence2']"
   ]
  },
  {
   "cell_type": "code",
   "execution_count": null,
   "metadata": {},
   "outputs": [],
   "source": []
  }
 ],
 "metadata": {
  "kernelspec": {
   "display_name": "exp",
   "language": "python",
   "name": "python3"
  },
  "language_info": {
   "codemirror_mode": {
    "name": "ipython",
    "version": 3
   },
   "file_extension": ".py",
   "mimetype": "text/x-python",
   "name": "python",
   "nbconvert_exporter": "python",
   "pygments_lexer": "ipython3",
   "version": "3.10.16"
  }
 },
 "nbformat": 4,
 "nbformat_minor": 2
}
